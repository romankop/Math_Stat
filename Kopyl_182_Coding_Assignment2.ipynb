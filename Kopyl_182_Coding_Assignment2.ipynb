{
 "cells": [
  {
   "cell_type": "markdown",
   "metadata": {},
   "source": [
    "## Fun with ~~flags~~ data generating models.\n",
    "\n",
    "Each generating model is just a distribution $p$ for a random vector $\\mathbf{x}$ (or ($\\mathbf{x},y)$ if we pay a special attention to some coordinate $y$). Consider  a vector of parameters $\\theta\\in \\Theta$ of the distrbution $p=p_\\theta$. In the simplest case these parameters totally define the distribution $p$.\n",
    "\n",
    "#### Rules of the game:\n",
    "\n",
    "0. Predefine a stochastic model, i.e. define distribution  $p_\\theta$.\n",
    "1. Sample from this distribution, obtain some finite random sample $\\{x_i\\}_{i=1}^n$. Forget about the model for a mom.\n",
    "2. Choose some estimator-function  $\\hat{\\theta}: \\mathbb{R}^n\\rightarrow \\mathbb{R}$\n",
    "3. Apply this function $\\hat{\\theta}$ to your sample and obtain some estimation (i.e. vector of numbers)  $\\hat{\\theta}_n$ \n",
    "4. Loop through steps 1-3 to obtain a sample estimations $\\hat{\\theta}_n$ and (empirically) evaluate its statistical properties. Compare them with their theoretical counterparts computed using the original model $p_\\theta$!\n",
    "\n",
    "\n",
    "#### Major theoretical questions for self-control:\n",
    "\n",
    "1. Name \"statistical properties\" of   $\\hat{\\theta}_n$ you know \n",
    "\n",
    "        * when $n$ is fixed\n",
    "        * when $n$ is increasing\n",
    "\n",
    "2. Assume you  have 2 estimators $\\hat{\\theta}_n^1$ and $\\hat{\\theta}_n^2$ which one to choose? (its a difficult question!) be  specific!\n",
    "\n",
    "In the next section we will continue experiments with synthetic data and learn how to choose the best model among several candidates and test hypothesys about its parameters.\n"
   ]
  },
  {
   "cell_type": "markdown",
   "metadata": {},
   "source": [
    "### More about data generating models and synthetic data##\n",
    "\n",
    "The topic of data generating models is fascinating! It is not restricted to linear-models we talk about (however you need something to start with). \n",
    "\n",
    "You can have a look at some advances in the field for images generation [here](https://www.thispersondoesnotexist.com/) and [here](https://thiscatdoesnotexist.com/) (press F5 to obtain  a new one), [Music generation](https://openai.com/blog/musenet/) and [Speech generation](https://deepmind.com/blog/article/wavenet-generative-model-raw-audio) :)"
   ]
  },
  {
   "cell_type": "markdown",
   "metadata": {},
   "source": [
    "## Task 0. [Method of least squares]\n",
    "\n",
    "\n",
    "<img width=\"200\" alt=\"portfolio_view\" src=\"https://encrypted-tbn0.gstatic.com/images?q=tbn%3AANd9GcTzUXaWgOPg63UcizAtjfl1N0l7i0QpHV6fXXjBfAVNFzl8DYdv\">\n",
    "\n",
    "\n",
    "\n",
    "We start with a simple problem  from HW1:\n",
    "\n",
    "Find the nearest point on the hyperplane $H:$ $3x_1+4x_2+x_3=1$ (general equation of a hyperplane is  $a'x=b$) to the point $y(-1,1,1)$. \n",
    "\n",
    "You can do it, for instance, in 2 steps:\n",
    "\n",
    "* first project point $y$ onto linear subspace $L=$ $\\{(x_1,x_2,x_3):3x_1+4x_2+x_3=0\\}$ using projector operator P.\n",
    "\n",
    "* shift you answer back to the original hyperplane by adding $\\frac{b}{|a|^2}a$. \n",
    "\n",
    "*Draw a schematic picture! Why do you need to add $\\frac{b}{|a|^2}a$ instead of simply $b$?*\n",
    "\n",
    "TODO:\n",
    "* Calculate the projection on L and on H\n",
    "\n",
    "* Calculate the residuals vector e of the projection on L\n",
    "* Calculate norm of e and norm of projection on L, verify the Pythagorean Theorem\n",
    "\n"
   ]
  },
  {
   "cell_type": "code",
   "execution_count": 1,
   "metadata": {},
   "outputs": [
    {
     "name": "stdout",
     "output_type": "stream",
     "text": [
      "||ans - numerical_ans|| =  2.4924445086331347e-15\n"
     ]
    }
   ],
   "source": [
    "import numpy as np\n",
    "\n",
    "np.random.seed(42)\n",
    "\n",
    "# initial data\n",
    "y  =  np.array([[-1],[1],[1]])\n",
    "a = np.array([3,4,1])\n",
    "b = 1\n",
    "# a = np.reshape(a, [-1,1]) # if you want to store a as a column\n",
    "\n",
    "normOfGradient = np.linalg.norm(a)\n",
    "\n",
    "#### First, construct a projector-matrix P = X(X'X)^-1X' \n",
    "# define X:\n",
    "# start with projector matrix P\n",
    "# take any 2 noncolinear vector-columns from L\n",
    "v1 = np.array([[1],[1],[-7]]) # TODO: fill \"?\" with  numbers!\n",
    "v2 = np.array([[0], [1],[-4]])\n",
    "\n",
    "try:\n",
    "    np.testing.assert_array_almost_equal(np.dot(a,v1), 0)\n",
    "    np.testing.assert_array_almost_equal(np.dot(a,v2), 0)\n",
    "except:\n",
    "    print(\"Ups! your vectors do not belong to L!!!!\")\n",
    "\n",
    "# concatenate them into 3x2 matrix\n",
    "X = np.concatenate([v1,v2], axis=1)\n",
    "\n",
    "# Q =  (X'X)\n",
    "\n",
    "Q = X.T @ X\n",
    "\n",
    "Qinv = np.linalg.inv(Q) # TODO: Qinv = Q^-1, see np.linalg.inv\n",
    "\n",
    "# Use P= XQ^-1X' \n",
    "P =  X @ Qinv @ X.T\n",
    "\n",
    "# check that P^2 = P and P=P'\n",
    "\n",
    "# TODO: check: P^2 = P, P'= P\n",
    "np.testing.assert_array_almost_equal(P @ P, P)\n",
    "np.testing.assert_array_almost_equal(P.T, P)\n",
    "\n",
    "##### Next, project on L:\n",
    "\n",
    "projOnL = P @ y\n",
    "\n",
    "##### After that, project on H:\n",
    "projOnH  = P @ y + np.reshape(a,[-1,1])*b/normOfGradient**2\n",
    "\n",
    "# check that projOnL is really in L\n",
    "np.testing.assert_array_almost_equal(np.dot(a,projOnL), 0)\n",
    "\n",
    "# check that projOnH is really in H\n",
    "np.testing.assert_array_almost_equal(np.dot(a.T,projOnH), b)\n",
    "\n",
    "# calculate the residuals:\n",
    "e = y - projOnL # TODO\n",
    "\n",
    "# norm(y)**2  =  norm(e)**2 + norm(proj)**2  \n",
    "precize_ans = np.array([[-29/26],[22/26],[25/26]])\n",
    "print(\"||ans - numerical_ans|| = \",np.linalg.norm(projOnH - precize_ans))\n",
    "\n",
    "# TODO: check |y|^2 = |e|^2 + |projOnL|^2\n",
    "np.testing.assert_array_almost_equal(np.linalg.norm(y) ** 2, np.linalg.norm(e) ** 2 + np.linalg.norm(projOnL) ** 2)"
   ]
  },
  {
   "cell_type": "markdown",
   "metadata": {},
   "source": [
    "##### Task 1 [Idea of the method of  moments, see also Task 1 from HW 5.]##\n",
    "\n",
    "\n",
    "Let generating model be a 1-dimensional Uniform distribution on [a,b] interval.\n",
    "You need to\n",
    "\n",
    "1)  draw n-element sample from Unif[a,b] distribution.  \n",
    "\n",
    "2)  assume you've forgotten your parameters (a and b), but you still remember that you sampled from some uniform distribution. So you want to \"restore\" $a$ and $b$ from your sample. \n",
    "\n",
    "3) A most common (but not the only) way to do this is to use the \"method of moments\":  Compute theoretically some moments for a  uniform distribution (you can find first and second moments, for instance). If you do this way, denote them by $\\mu_1, \\mu_2$. Solve equations and express $a$ and $b$ as functions  of $\\mu_1$, $\\mu_2.$\n",
    "\n",
    "4) Using your sample find $\\hat{\\mu_1}$ and $\\hat{\\mu_2}$ and your estimates $\\hat{a}=a(\\hat{\\mu_1}, \\hat{\\mu_2}$), $\\hat{b}=b(\\hat{\\mu_1},\\hat{\\mu_2})$ using expressions from 3.\n",
    "\n",
    "5) increase your sample size 10 times and repeat steps 1-4\n",
    "\n",
    "What happens with $\\hat{a}_n, \\hat{b}_n$ as sample size $n$ increases? Why?"
   ]
  },
  {
   "cell_type": "code",
   "execution_count": 2,
   "metadata": {},
   "outputs": [
    {
     "name": "stdout",
     "output_type": "stream",
     "text": [
      "N:  200 , Moments: 4.745178092592499 14.934946572739822 , Sq. Errors:  0.0649 0.0042\n",
      "N:  2000 , Moments: 4.972518347363026 15.058804902143875 , Sq. Errors:  0.0008 0.0035\n",
      "N:  20000 , Moments: 5.008961312675615 14.998205455597294 , Sq. Errors:  0.0001 0.0\n",
      "N:  200000 , Moments: 5.002718870743355 15.002160922933822 , Sq. Errors:  0.0 0.0\n",
      "N:  2000000 , Moments: 5.000537613798826 14.996806064229144 , Sq. Errors:  0.0 0.0\n"
     ]
    }
   ],
   "source": [
    "a = 5 \n",
    "b = 15\n",
    "\n",
    "n = 20 # your sample size\n",
    "\n",
    "def generator(a, b, n):\n",
    "\n",
    "    sample = np.random.uniform(low=a, high=b,size = [n])\n",
    "\n",
    "    ##TODO: 2)-4) and 5)\n",
    "\n",
    "    #2-4.\n",
    "    def get_a_b(n1, n2):\n",
    "        a = n1 - np.sqrt(3 * n2)\n",
    "        b = n1 + np.sqrt(3 * n2)\n",
    "        return (a, b)\n",
    "\n",
    "    n1, n2 = np.mean(sample), np.var(sample)\n",
    "\n",
    "    a_new, b_new = get_a_b(n1, n2)\n",
    "\n",
    "    print('N: ', n, ', Moments:', a_new, b_new, ', Sq. Errors: ', round((a - a_new)**2, 4), round((b - b_new) ** 2, 4))\n",
    "\n",
    "#5\n",
    "\n",
    "for _ in range(5):\n",
    "    n *= 10\n",
    "    generator(a, b, n)"
   ]
  },
  {
   "cell_type": "markdown",
   "metadata": {},
   "source": [
    "## Task 2 [A simple linear model with nonorthogonal regressors]\n",
    "\n",
    "Consider a linear model (aka data generating process) $y = a x_1 +bx_2 +c+e$, where *regressors* $x_1$ and $x_2$ are some random variables  and *error* e is another variable assumed to be conditionally independent of  $x_1,x_2$ (i.e. $\\mathbf{E}(e|x_1,x_2) = 0$ and thus it is cond. independent of the regressors). The vector of parameters $\\theta$ we consider now is the vector $(a,b,c)$, but, in principle, it can include other things like moments of $e$ or $y$, etc. This model is usually called **long** or **unrestricted**. *What is the interpretation of the coefficient $a$ in this setting?*\n",
    "\n",
    "In contrast to the long model we consider another model  $y = a x_1  +c+e$ which is  called **short** or **restricted**. Usually people try to estimate short model when they need to estimate $a$ but have no access to the regressor $x_2$ (they might be lazy to collect this data or this data is unavailable or unobservableor they don't know the actual form of the long model, no matter!). \n",
    "\n",
    "You need to \n",
    "\n",
    "1) generate samples from the **long** model\n",
    "\n",
    "2) Use the least squares to estimate its parameters in the long model as in **task 0**\n",
    "\n",
    "3) Next, use the **short** model to try to estimate coefficients $a$ and $c$. **Main question:** Do they converge (as sample-size increases) to the coefficients of the  **long** model?  \n",
    "\n",
    "4) Try to increase sample-size $n$ to 2000, to 10000\n",
    "\n",
    "\n",
    "\n",
    "\n",
    "**Questions (write your answers in the next cell of the notebook):\n",
    "Do short model estimates look consistent with the long model? Explain why/why not? Try to set parameter $\\rho$ in the data generation model to 0. What happens? Why? Can you generate samples in a loop and find empirical distribution of your estimates $\\hat{a}_n$ and $\\hat{c}_n$. (Plot histogram, when n is large.) What shape does it have?**\n"
   ]
  },
  {
   "cell_type": "code",
   "execution_count": 111,
   "metadata": {},
   "outputs": [
    {
     "data": {
      "image/png": "[encoded data removed]",
      "text/plain": [
       "<Figure size 432x288 with 1 Axes>"
      ]
     },
     "metadata": {
      "needs_background": "light"
     },
     "output_type": "display_data"
    },
    {
     "data": {
      "image/png": "[encoded data removed]",
      "text/plain": [
       "<Figure size 432x288 with 1 Axes>"
      ]
     },
     "metadata": {
      "needs_background": "light"
     },
     "output_type": "display_data"
    },
    {
     "data": {
      "image/png": "[encoded data removed]",
      "text/plain": [
       "<Figure size 432x288 with 1 Axes>"
      ]
     },
     "metadata": {
      "needs_background": "light"
     },
     "output_type": "display_data"
    },
    {
     "data": {
      "image/png": "[encoded data removed]",
      "text/plain": [
       "<Figure size 432x288 with 1 Axes>"
      ]
     },
     "metadata": {
      "needs_background": "light"
     },
     "output_type": "display_data"
    },
    {
     "name": "stdout",
     "output_type": "stream",
     "text": [
      "a_hat_long_model = 19.77\n",
      "c_hat_long_model = -30.35\n",
      "\n",
      "a_hat_short_model = -95.92\n",
      "c_hat_short_model = 453.65\n"
     ]
    },
    {
     "data": {
      "image/png": "[encoded data removed]",
      "text/plain": [
       "<Figure size 432x288 with 1 Axes>"
      ]
     },
     "metadata": {
      "needs_background": "light"
     },
     "output_type": "display_data"
    },
    {
     "name": "stdout",
     "output_type": "stream",
     "text": [
      "N =  2000\n",
      "\n",
      "a_hat_long_model = 19.96\n",
      "c_hat_long_model = -29.81\n",
      "\n",
      "a_hat_short_model = -100.62\n",
      "c_hat_short_model = 595.00\n",
      "\n",
      "N =  10000\n",
      "\n",
      "a_hat_long_model = 20.00\n",
      "c_hat_long_model = -30.01\n",
      "\n",
      "a_hat_short_model = -100.36\n",
      "c_hat_short_model = 552.42\n",
      "\n"
     ]
    }
   ],
   "source": [
    "import matplotlib.pyplot as plt\n",
    "import numpy as np\n",
    "np.random.RandomState(seed=0)\n",
    "np.random.seed(0)\n",
    "\n",
    "a = 20\n",
    "b = 3\n",
    "с = -30\n",
    "n_smpl = 100\n",
    "\n",
    "\n",
    "def generate_data(n = n_smpl, rho = 10):\n",
    "    x1 = np.random.uniform(-10, 20, n)\n",
    "    x2 =  np.random.uniform(-10, 20, n) - rho * (np.random.uniform(-10, 20, n) + x1) ** 2 # oh my god! some super complicated formula, Don' t look at it! \n",
    "    x2 = x2 - np.mean(x2) # demean x2 (try to switch this off, what would happen with c_hat_short?)\n",
    "    e = np.random.normal(0, 10, n)\n",
    "    \n",
    "    \n",
    "    y = a * x1 + b * x2 + с + e\n",
    "    \n",
    "    y = np.reshape(y,[-1,1]) # we want data to be stored as vector-columns\n",
    "    x1 = np.reshape(x1,[-1,1])\n",
    "    x2 = np.reshape(x2,[-1,1])\n",
    "    e = np.reshape(e,[-1,1])\n",
    "    return y, x1, x2, e\n",
    "\n",
    "[y, x1, x2, e] = generate_data(rho = 2)\n",
    "\n",
    "## Plotting sample!\n",
    "\n",
    "# plot y vs x1\n",
    "plt.scatter(x1.transpose()[0],y.transpose()[0])\n",
    "plt.title('y(x1)')\n",
    "plt.show();\n",
    "\n",
    "# try to plot other things:\n",
    "# # plot y vs x2\n",
    "\n",
    "plt.scatter(x2.transpose()[0],y.transpose()[0])\n",
    "plt.title('y(x2)')\n",
    "plt.show();\n",
    "\n",
    "# # plot x1 vs x2\n",
    "\n",
    "plt.scatter(x1.transpose()[0],x2.transpose()[0])\n",
    "plt.title('x2(x1)')\n",
    "plt.show();\n",
    "\n",
    "\n",
    "# plot e vs x1 or x2\n",
    "\n",
    "plt.scatter(e.transpose()[0], x1.transpose()[0])\n",
    "plt.title('e(x1)')\n",
    "plt.show();\n",
    "\n",
    "\n",
    "# Estimate long model\n",
    "def long_coef(x1, x2, y):\n",
    "    \n",
    "    X = np.concatenate([x1, x2, np.ones_like(x1)], axis=1)\n",
    "    \n",
    "    beta_hat_long = np.linalg.inv(X.T @ X) @ X.T @ y\n",
    "    \n",
    "    return beta_hat_long[0][0], beta_hat_long[1][0], beta_hat_long[2][0], beta_hat_long\n",
    "\n",
    "a_long, b_long, с_long, beta_long = long_coef(x1, x2, y)\n",
    "\n",
    "print(\"a_hat_long_model = %.2f\" % a_long)\n",
    "print(\"c_hat_long_model = %.2f\" % с_long, end='\\n\\n')\n",
    "\n",
    "# Estimate short model\n",
    "\n",
    "def short_coef(x1, x2, y):\n",
    "\n",
    "    consts = np.ones_like(x1)\n",
    "\n",
    "    X_short = np.concatenate([consts, x1], axis=1)\n",
    "\n",
    "    Q = np.dot(X_short.transpose(), X_short)\n",
    "    Qinv = np.linalg.inv(Q)\n",
    "    beta_hat_short = np.linalg.multi_dot([ Qinv, X_short.transpose(), y])\n",
    "\n",
    "    a_hat_short = beta_hat_short[1][0]\n",
    "    c_hat_short = beta_hat_short[0][0]\n",
    "    \n",
    "    return a_hat_short, c_hat_short\n",
    "\n",
    "a_hat_short, c_hat_short = short_coef(x1, x2, y)\n",
    "\n",
    "print(\"a_hat_short_model = %.2f\" % a_hat_short)\n",
    "print(\"c_hat_short_model = %.2f\" % c_hat_short)\n",
    "\n",
    "# plotting forecast:\n",
    "grid = np.linspace(-10,20, 20)\n",
    "consts  = np.ones_like(grid)\n",
    "y_hat = c_hat_short * consts + a_hat_short * grid\n",
    "\n",
    "plt.scatter(x1.transpose()[0],y.transpose()[0])\n",
    "plt.plot(grid, y_hat, 'r')\n",
    "plt.title('y^')\n",
    "plt.show() \n",
    "\n",
    "\n",
    "#Round 2\n",
    "\n",
    "n_smpl = 2000\n",
    "\n",
    "[y, x1, x2, e] = generate_data(n=n_smpl, rho=2)\n",
    "\n",
    "a_long, b_long, с_long, beta_long = long_coef(x1, x2, y)\n",
    "\n",
    "print('N = ', n_smpl, end='\\n' * 2)\n",
    "\n",
    "print(\"a_hat_long_model = %.2f\" % a_long)\n",
    "print(\"c_hat_long_model = %.2f\" % с_long, end='\\n' * 2)\n",
    "\n",
    "a_hat_short, c_hat_short = short_coef(x1, x2, y)\n",
    "\n",
    "print(\"a_hat_short_model = %.2f\" % a_hat_short)\n",
    "print(\"c_hat_short_model = %.2f\" % c_hat_short, end='\\n' * 2)\n",
    "\n",
    "#Round 3\n",
    "\n",
    "n_smpl = 10000\n",
    "\n",
    "[y, x1, x2, e] = generate_data(n=n_smpl, rho=2)\n",
    "\n",
    "a_long, b_long, с_long, beta_long = long_coef(x1, x2, y)\n",
    "\n",
    "print('N = ', n_smpl, end='\\n' * 2)\n",
    "\n",
    "print(\"a_hat_long_model = %.2f\" % a_long)\n",
    "print(\"c_hat_long_model = %.2f\" % с_long, end='\\n' * 2)\n",
    "\n",
    "a_hat_short, c_hat_short = short_coef(x1, x2, y)\n",
    "\n",
    "print(\"a_hat_short_model = %.2f\" % a_hat_short)\n",
    "print(\"c_hat_short_model = %.2f\" % c_hat_short, end='\\n' * 2)\n",
    "\n",
    "#y - np.concatenate([x1, x2, np.ones_like(x1)], axis=1) @ beta_long"
   ]
  },
  {
   "cell_type": "code",
   "execution_count": 112,
   "metadata": {},
   "outputs": [
    {
     "data": {
      "text/plain": [
       "-0.5785869429481852"
      ]
     },
     "execution_count": 112,
     "metadata": {},
     "output_type": "execute_result"
    }
   ],
   "source": [
    "np.corrcoef(x1.reshape(-1), x2.reshape(-1))[0,1]"
   ]
  },
  {
   "cell_type": "code",
   "execution_count": 113,
   "metadata": {},
   "outputs": [
    {
     "data": {
      "text/plain": [
       "array([[ 1., nan],\n",
       "       [nan, nan]])"
      ]
     },
     "metadata": {},
     "output_type": "display_data"
    },
    {
     "data": {
      "text/plain": [
       "array([[367636.07988006,      0.        ],\n",
       "       [     0.        ,      0.        ]])"
      ]
     },
     "metadata": {},
     "output_type": "display_data"
    }
   ],
   "source": [
    "display(np.corrcoef(x2.reshape(-1), np.ones_like(x1.reshape(-1))))\n",
    "display(np.cov(x2.reshape(-1), np.ones_like(x1.reshape(-1))))"
   ]
  },
  {
   "cell_type": "markdown",
   "metadata": {},
   "source": [
    "Answer: no, coefficients don't converge as even with n increasing we still in the second model project y to the subspace of X, where X = [x1, x2, 1], so we will always lose more information regardless of n size. Also, the key is in the dependency between x1&const and x2. One can state that x2=f(x1, c) if pho!=0. Dependency on constant comes from demeaning. So dependency of y on x1 is more than externalized in a_long coefficient (and which is shown in a_short) as well as dependency on constant is fully represented in c_long."
   ]
  },
  {
   "cell_type": "code",
   "execution_count": 114,
   "metadata": {},
   "outputs": [
    {
     "name": "stdout",
     "output_type": "stream",
     "text": [
      "N =  100\n",
      "\n",
      "a_hat_long_model = 20.06\n",
      "c_hat_long_model = -29.60\n",
      "\n",
      "a_hat_short_model = 20.67\n",
      "c_hat_short_model = -32.52\n",
      "\n",
      "N =  2000\n",
      "\n",
      "a_hat_long_model = 20.01\n",
      "c_hat_long_model = -30.18\n",
      "\n",
      "a_hat_short_model = 20.13\n",
      "c_hat_short_model = -30.75\n",
      "\n",
      "N =  10000\n",
      "\n",
      "a_hat_long_model = 20.01\n",
      "c_hat_long_model = -29.96\n",
      "\n",
      "a_hat_short_model = 19.97\n",
      "c_hat_short_model = -29.78\n",
      "\n"
     ]
    }
   ],
   "source": [
    "#Round 4\n",
    "for i in [100, 2000, 10000]:\n",
    "    n_smpl = i\n",
    "\n",
    "    [y, x1, x2, e] = generate_data(n=n_smpl, rho=0)\n",
    "\n",
    "    a_long, b_long, с_long, beta_long = long_coef(x1, x2, y)\n",
    "\n",
    "    print('N = ', n_smpl, end='\\n' * 2)\n",
    "\n",
    "    print(\"a_hat_long_model = %.2f\" % a_long)\n",
    "    print(\"c_hat_long_model = %.2f\" % с_long, end='\\n' * 2)\n",
    "\n",
    "    a_hat_short, c_hat_short = short_coef(x1, x2, y)\n",
    "\n",
    "    print(\"a_hat_short_model = %.2f\" % a_hat_short)\n",
    "    print(\"c_hat_short_model = %.2f\" % c_hat_short, end='\\n' * 2)"
   ]
  },
  {
   "cell_type": "markdown",
   "metadata": {},
   "source": [
    "Answer: wow, coeffs started to converge. Very strange. But we lost dependency of x2 on x1. As a, b, с are coefficients of projections of y on x1, x2 and 1 (the numbers we need subspace creating vectors to multiply on to get the projections), the results of projection on x1 is indifferent if all regarded subspaces are independent of each other. With increasing n the enthropy loss from excluding one regressor is about to decrease, so we can get more precise result. Or maybe beyond infinity x1 and x2 are distributed like underlying random variables, which have fixed correlation. In case of random samples correlation is not stricted to one value, but as sample approaching variable it's converging. And correlation means dependence in some kind, which makes a_long and c_long inferior as they don't fully describe dependence y on x1 and constant. What's more, c_short is  converging to c_long though turned on demeaning should still represent correlation between x2 and constant. Okey, I got it. Any vector is a sum of a projection on constant + orthogonal leftover. The projection on constant is mean, so extracting mean from x2 we take the dependency on constant from it. That's why they are uncorrelated. If we swtich if off, we will see that c_short doesn't converge to c_long. Very illogical but here it is. Another option is that a_long converges to a_short because they both converge to \"a\", so their subtraction moves to zero on infinity."
   ]
  },
  {
   "cell_type": "code",
   "execution_count": 109,
   "metadata": {},
   "outputs": [
    {
     "data": {
      "text/plain": [
       "-0.011897358447996364"
      ]
     },
     "execution_count": 109,
     "metadata": {},
     "output_type": "execute_result"
    }
   ],
   "source": [
    "np.corrcoef(x1.reshape(-1), x2.reshape(-1))[0,1]"
   ]
  },
  {
   "cell_type": "code",
   "execution_count": 110,
   "metadata": {},
   "outputs": [
    {
     "data": {
      "text/plain": [
       "array([[ 1., nan],\n",
       "       [nan, nan]])"
      ]
     },
     "metadata": {},
     "output_type": "display_data"
    },
    {
     "data": {
      "text/plain": [
       "array([[75.51047475,  0.        ],\n",
       "       [ 0.        ,  0.        ]])"
      ]
     },
     "metadata": {},
     "output_type": "display_data"
    }
   ],
   "source": [
    "display(np.corrcoef(x2.reshape(-1), np.ones_like(x1.reshape(-1))))\n",
    "display(np.cov(x2.reshape(-1), np.ones_like(x1.reshape(-1))))"
   ]
  },
  {
   "cell_type": "markdown",
   "metadata": {},
   "source": [
    "Here I have to proof that betas are a consistent estimator of original betas. But it's not as easy and hard to implement in notebook using tex. So, I will provide the solution further after preliminary deliberation of a few questions personally. But I will show the fact empirically."
   ]
  },
  {
   "cell_type": "code",
   "execution_count": 62,
   "metadata": {},
   "outputs": [
    {
     "data": {
      "image/png": "[encoded data removed]",
      "text/plain": [
       "<Figure size 864x720 with 4 Axes>"
      ]
     },
     "metadata": {
      "needs_background": "light"
     },
     "output_type": "display_data"
    }
   ],
   "source": [
    "a_s, c_s = [], []\n",
    "for i in range(1, 10000):\n",
    "    \n",
    "    n_smpl = i\n",
    "\n",
    "    [y, x1, x2, e] = generate_data(n=n_smpl, rho=0)\n",
    "\n",
    "    a_hat_short, c_hat_short = short_coef(x1, x2, y)\n",
    "    \n",
    "    a_s.append(a_hat_short)\n",
    "    c_s.append(c_hat_short)\n",
    "\n",
    "plt.figure(figsize=(12,10))\n",
    "plt.subplot(221)\n",
    "plt.hist(a_s, bins=80, range=(a - .4, a + .4))\n",
    "plt.title('a_short')\n",
    "\n",
    "plt.subplot(222)\n",
    "plt.hist(c_s, bins=75, range=(с - 1.5, с + 1.5))\n",
    "plt.title('c_short')\n",
    "\n",
    "plt.subplot(223)\n",
    "plt.plot(range(1001, 10000), (np.array(a_s)[1000:] - a) ** 2)\n",
    "plt.title('a_short Square errors')\n",
    "plt.subplot(224)\n",
    "plt.plot(range(1001, 10000), (np.array(c_s)[1000:] - с) ** 2)\n",
    "plt.title('c_short Square errors')\n",
    "plt.show();"
   ]
  },
  {
   "cell_type": "markdown",
   "metadata": {},
   "source": [
    "Answer: wow, it's a normal distribution with mean = a (and c). And we see that the error has a trend to diminish with number of sample plummeting."
   ]
  }
 ],
 "metadata": {
  "kernelspec": {
   "display_name": "Python 3",
   "language": "python",
   "name": "python3"
  },
  "language_info": {
   "codemirror_mode": {
    "name": "ipython",
    "version": 3
   },
   "file_extension": ".py",
   "mimetype": "text/x-python",
   "name": "python",
   "nbconvert_exporter": "python",
   "pygments_lexer": "ipython3",
   "version": "3.7.1"
  }
 },
 "nbformat": 4,
 "nbformat_minor": 2
}
