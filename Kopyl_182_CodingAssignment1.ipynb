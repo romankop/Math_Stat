{
 "cells": [
  {
   "cell_type": "markdown",
   "metadata": {},
   "source": [
    "# Practical coding assignment 1#\n",
    "\n",
    "## Assignment consitsts of 2 Sections:##\n",
    "\n",
    "\n",
    "###  1. Part I,III, IV this is a simple introduction to numpy. However, it has an integrated theoretical exercise inside, don't miss it!\n",
    "\n",
    "###  2. Fun with ~~flags~~ data generating models. This section also has a simple theoretical exercise inside.\n",
    "\n",
    "\n",
    "## Section 1\n",
    "\n",
    "##### THIS GUIDE IS ADAPTED FROM THE ASSIGNMENT 1 GUIDE OF RL-LEARNING COURSE BY HSE (Higher School Of Economics)"
   ]
  },
  {
   "cell_type": "markdown",
   "metadata": {},
   "source": [
    "### Part I: Jupyter notebooks in a nutshell\n",
    "* You are reading this line in a jupyter notebook.\n",
    "* A notebook consists of cells. A cell can contain either code or hypertext. \n",
    "    * This cell contains hypertext. The next cell contains code.\n",
    "* You can __run a cell__ with code by selecting it (click) and pressing `Ctrl + Enter` to execute the code and display output(if any).\n",
    "* If you're running this on a device with no keyboard, ~~you are doing it wrong~~ use topbar (esp. play/stop/restart buttons) to run code.\n",
    "* Behind the curtains, there's a python interpreter that runs that code and remembers anything you defined.\n",
    "\n",
    "Run these cells to get started"
   ]
  },
  {
   "cell_type": "code",
   "execution_count": 1,
   "metadata": {},
   "outputs": [],
   "source": [
    "a = 5"
   ]
  },
  {
   "cell_type": "code",
   "execution_count": 2,
   "metadata": {},
   "outputs": [
    {
     "name": "stdout",
     "output_type": "stream",
     "text": [
      "10\n"
     ]
    }
   ],
   "source": [
    "print(a * 2)"
   ]
  },
  {
   "cell_type": "markdown",
   "metadata": {},
   "source": [
    "* `Ctrl + S` to save changes (or use the button that looks like a floppy disk)\n",
    "* Top menu -> Kernel -> Interrupt (or Stop button) if you want it to stop running cell midway.\n",
    "* Top menu -> Kernel -> Restart (or cyclic arrow button) if interrupt doesn't fix the problem (you will lose all variables).\n",
    "* For shortcut junkies like us: Top menu -> Help -> Keyboard Shortcuts\n",
    "\n",
    "\n",
    "* More: [Hacker's guide](http://arogozhnikov.github.io/2016/09/10/jupyter-features.html), [Beginner's guide'](https://jupyter-notebook-beginner-guide.readthedocs.io/en/latest/), [Datacamp tutorial](https://www.datacamp.com/community/tutorials/tutorial-jupyter-notebook)\n",
    "\n",
    "Now __the most important feature__ of jupyter notebooks for this course: \n",
    "* if you're typing something, press `Tab` to see automatic suggestions, use arrow keys + enter to pick one.\n",
    "* if you move your cursor inside some function and press `__Shift + Tab__`, you'll get a help window. `Shift + (Tab , Tab)` will expand it."
   ]
  },
  {
   "cell_type": "code",
   "execution_count": 3,
   "metadata": {},
   "outputs": [],
   "source": [
    "# run this first\n",
    "import math"
   ]
  },
  {
   "cell_type": "code",
   "execution_count": 4,
   "metadata": {},
   "outputs": [
    {
     "data": {
      "text/plain": [
       "1.373400766945016"
      ]
     },
     "execution_count": 4,
     "metadata": {},
     "output_type": "execute_result"
    }
   ],
   "source": [
    "# place your cursor at the end of the unfinished line below to find a function \n",
    "# that computes arctangent from two parameters (should have 2 in it's name)\n",
    "# once you chose it, press shift + tab + tab(again) to see the docs\n",
    "\n",
    "math.atan(a)"
   ]
  },
  {
   "cell_type": "markdown",
   "metadata": {},
   "source": [
    "### Part III: Numpy and vectorized computing\n",
    "\n",
    "Almost any statistical model requires some computational heavy lifting usually involving linear algebra problems. Unfortunately, raw python is terrible at this because each operation is interpreted at runtime. \n",
    "\n",
    "So instead, we'll use `numpy` - a library that lets you run blazing fast computation with vectors, matrices and other tensors. Again, the god object here is `numpy.ndarray`:"
   ]
  },
  {
   "cell_type": "code",
   "execution_count": 5,
   "metadata": {},
   "outputs": [
    {
     "name": "stdout",
     "output_type": "stream",
     "text": [
      "a =  [1 2 3 4 5]\n",
      "b =  [5 4 3 2 1]\n",
      "a + 1 = [2 3 4 5 6]\n",
      "a * 2 = [ 2  4  6  8 10]\n",
      "a == 2 [False  True False False False]\n",
      "a + b = [6 6 6 6 6]\n",
      "a * b = [5 8 9 8 5]\n"
     ]
    }
   ],
   "source": [
    "import numpy as np\n",
    "\n",
    "a = np.array([1,2,3,4,5])\n",
    "b = np.array([5,4,3,2,1])\n",
    "print(\"a = \",a)\n",
    "print(\"b = \",b)\n",
    "\n",
    "# math and boolean operations can applied to each element of an array\n",
    "print(\"a + 1 =\", a + 1)\n",
    "print(\"a * 2 =\", a * 2)\n",
    "print(\"a == 2\", a == 2)\n",
    "# ... or corresponding elements of two (or more) arrays\n",
    "print(\"a + b =\",a + b)\n",
    "print(\"a * b =\",a * b)"
   ]
  },
  {
   "cell_type": "code",
   "execution_count": 6,
   "metadata": {},
   "outputs": [
    {
     "data": {
      "text/plain": [
       "array([2.5, 4. , 4.5, 4. , 2.5])"
      ]
     },
     "execution_count": 6,
     "metadata": {},
     "output_type": "execute_result"
    }
   ],
   "source": [
    "# Your turn: compute half-products of a and b elements (halves of products)\n",
    "print(a * b / 2)\n",
    "\n",
    "#my question: or this means this:\n",
    "print(np.prod(a) / 2, np.prod(b) / 2)"
   ]
  },
  {
   "cell_type": "code",
   "execution_count": 7,
   "metadata": {},
   "outputs": [
    {
     "data": {
      "text/plain": [
       "array([0.16666667, 0.28284271, 0.4330127 , 0.66666667, 1.11803399])"
      ]
     },
     "execution_count": 7,
     "metadata": {},
     "output_type": "execute_result"
    }
   ],
   "source": [
    "# compute elementwise quoient between squared a and (b plus 1)\n",
    "np.sqrt(a) / (b + 1)"
   ]
  },
  {
   "cell_type": "markdown",
   "metadata": {},
   "source": [
    "```\n",
    "\n",
    "```\n",
    "\n",
    "```\n",
    "\n",
    "```\n",
    "\n",
    "```\n",
    "\n",
    "```\n",
    "\n",
    "```\n",
    "\n",
    "```\n",
    "\n",
    "```\n",
    "\n",
    "```\n",
    "\n",
    "\n",
    "### How fast is it, harry?\n",
    "![img](https://img.buzzfeed.com/buzzfeed-static/static/2015-11/6/7/enhanced/webdr10/enhanced-buzz-22847-1446811476-0.jpg)\n",
    "\n",
    "Let's compare computation time for python and numpy\n",
    "* Two arrays of 10^6 elements\n",
    " * first - from 0 to 1 000 000\n",
    " * second - from 99 to 1 000 099\n",
    " \n",
    "* Computing:\n",
    " * elemwise sum\n",
    " * elemwise product\n",
    " * square root of first array\n",
    " * sum of all elements in the first array\n",
    " "
   ]
  },
  {
   "cell_type": "code",
   "execution_count": 8,
   "metadata": {},
   "outputs": [
    {
     "name": "stdout",
     "output_type": "stream",
     "text": [
      "Wall time: 1.03 s\n"
     ]
    }
   ],
   "source": [
    "%%time \n",
    "# ^-- this \"magic\" measures and prints cell computation time\n",
    "\n",
    "# Option I: pure python\n",
    "arr_1 = range(1000000)\n",
    "arr_2 = range(99,1000099)\n",
    "\n",
    "\n",
    "a_sum = []\n",
    "a_prod = []\n",
    "sqrt_a1 = []\n",
    "for i in range(len(arr_1)):\n",
    "    a_sum.append(arr_1[i]+arr_2[i])\n",
    "    a_prod.append(arr_1[i]*arr_2[i])\n",
    "    a_sum.append(arr_1[i]**0.5)\n",
    "    \n",
    "arr_1_sum = sum(arr_1)\n"
   ]
  },
  {
   "cell_type": "code",
   "execution_count": 9,
   "metadata": {},
   "outputs": [
    {
     "name": "stdout",
     "output_type": "stream",
     "text": [
      "Wall time: 386 ms\n"
     ]
    }
   ],
   "source": [
    "%%time\n",
    "\n",
    "# Option II: start from python, convert to numpy\n",
    "arr_1 = range(1000000)\n",
    "arr_2 = range(99,1000099)\n",
    "\n",
    "arr_1, arr_2 = np.array(arr_1) , np.array(arr_2)\n",
    "\n",
    "\n",
    "a_sum = arr_1 + arr_2\n",
    "a_prod = arr_1 * arr_2\n",
    "sqrt_a1 = arr_1 ** .5\n",
    "arr_1_sum = arr_1.sum()\n"
   ]
  },
  {
   "cell_type": "code",
   "execution_count": 10,
   "metadata": {},
   "outputs": [
    {
     "name": "stdout",
     "output_type": "stream",
     "text": [
      "Wall time: 42.9 ms\n"
     ]
    }
   ],
   "source": [
    "%%time\n",
    "\n",
    "# Option III: pure numpy\n",
    "arr_1 = np.arange(1000000)\n",
    "arr_2 = np.arange(99,1000099)\n",
    "\n",
    "a_sum = arr_1 + arr_2\n",
    "a_prod = arr_1 * arr_2\n",
    "sqrt_a1 = arr_1 ** .5\n",
    "arr_1_sum = arr_1.sum()\n"
   ]
  },
  {
   "cell_type": "markdown",
   "metadata": {},
   "source": [
    "\n",
    "\n",
    "There's also a bunch of pre-implemented operations including logarithms, trigonometry, vector/matrix products and aggregations."
   ]
  },
  {
   "cell_type": "code",
   "execution_count": 11,
   "metadata": {},
   "outputs": [
    {
     "name": "stdout",
     "output_type": "stream",
     "text": [
      "numpy.sum(a) =  15\n",
      "numpy.mean(a) =  3.0\n",
      "numpy.min(a) =  1\n",
      "numpy.argmin(b) =  4\n",
      "numpy.dot(a,b) =  35\n",
      "numpy.unique(['male','male','female','female','male']) =  ['female' 'male']\n"
     ]
    }
   ],
   "source": [
    "a = np.array([1,2,3,4,5])\n",
    "b = np.array([5,4,3,2,1])\n",
    "print(\"numpy.sum(a) = \", np.sum(a))\n",
    "print(\"numpy.mean(a) = \", np.mean(a))\n",
    "print(\"numpy.min(a) = \",  np.min(a))\n",
    "print(\"numpy.argmin(b) = \", np.argmin(b))  # index of minimal element\n",
    "print(\"numpy.dot(a,b) = \", np.dot(a, b))      # dot product. Also used for matrix/tensor multiplication\n",
    "print(\"numpy.unique(['male','male','female','female','male']) = \", np.unique(['male','male','female','female','male']))\n",
    "\n",
    "# and tons of other stuff. see http://bit.ly/2u5q430 ."
   ]
  },
  {
   "cell_type": "markdown",
   "metadata": {},
   "source": [
    "The important part: all this functionality works with Pandas dataframes!"
   ]
  },
  {
   "cell_type": "markdown",
   "metadata": {},
   "source": [
    "The final numpy feature we'll need is indexing: selecting elements from an array. \n",
    "Aside from python indexes and slices (e.g. a[1:4]), numpy also allows you to select several elements at once."
   ]
  },
  {
   "cell_type": "code",
   "execution_count": 12,
   "metadata": {},
   "outputs": [
    {
     "name": "stdout",
     "output_type": "stream",
     "text": [
      "a =  [ 0  1  4  9 16 25]\n",
      "Select by element index\n",
      "a[[1,2,5]] =  [1 4 9]\n",
      "\n",
      "Select by boolean mask\n",
      "a[a > 5] =  [ 9 16 25]\n",
      "(a % 2 == 0) = [ True False  True False  True False]\n",
      "a[a > 3] = [ 0  4 16]\n"
     ]
    }
   ],
   "source": [
    "a = np.array([0, 1, 4, 9, 16, 25])\n",
    "ix = np.array([1,2,3])\n",
    "print(\"a = \", a)\n",
    "print(\"Select by element index\")\n",
    "print(\"a[[1,2,5]] = \", a[ix])\n",
    "\n",
    "print(\"\\nSelect by boolean mask\")\n",
    "print(\"a[a > 5] = \", a[a > 5])     # select all elementts in a that are greater than 5\n",
    "print(\"(a % 2 == 0) =\",a % 2 == 0) # True for even, False for odd\n",
    "print(\"a[a > 3] =\", a[a % 2 == 0]) # select all elements in a that are even\n",
    "\n",
    "\n"
   ]
  },
  {
   "cell_type": "markdown",
   "metadata": {},
   "source": [
    " ## Matrix operations"
   ]
  },
  {
   "cell_type": "code",
   "execution_count": 13,
   "metadata": {},
   "outputs": [
    {
     "name": "stdout",
     "output_type": "stream",
     "text": [
      "just a square matrix A =\n",
      "[[1 2]\n",
      " [3 4]]\n",
      "elementwise product of its elements\n",
      "[[ 1  4]\n",
      " [ 9 16]]\n",
      "again, elementwise product of its elements\n",
      "[[ 1  4]\n",
      " [ 9 16]]\n",
      "standard matrix product\n",
      "[[ 7 10]\n",
      " [15 22]]\n"
     ]
    }
   ],
   "source": [
    "A = np.array([[1,2],[3,4]]) # just a square matrix\n",
    "print(\"just a square matrix A =\")\n",
    "print(A)\n",
    "\n",
    "print(\"elementwise product of its elements\",)\n",
    "B =  A**2  # elementwise product of its elements\n",
    "print( B)\n",
    "\n",
    "print(\"again, elementwise product of its elements\") # elementwise product of its elements\n",
    "B1 =  A*A  # elementwise product of its elements\n",
    "print( B1)\n",
    "\n",
    "\n",
    "print(\"standard matrix product\" )\n",
    "\n",
    "C = np.dot(A,A)\n",
    "print( C)\n"
   ]
  },
  {
   "cell_type": "markdown",
   "metadata": {},
   "source": [
    "### EXERCISE 1, Your turn! (also see problem 7)\n",
    "\n",
    "Use numpy to answer a few questions"
   ]
  },
  {
   "cell_type": "code",
   "execution_count": 14,
   "metadata": {},
   "outputs": [],
   "source": [
    "# the following command generates a random square matrix\n",
    "\n",
    "X = np.random.rand(3,2)\n"
   ]
  },
  {
   "cell_type": "markdown",
   "metadata": {},
   "source": [
    "You need to \n",
    "* 1) check its shape (\"X.shape\" command)  \n",
    "* 2) calculate matrix C = X'*X, where ' is for transpose. \n",
    "* 3) which shape does it have? \n",
    "* 4) find a list of eigenvalues (call it $\\lambda_1$,  $\\lambda_2$) and eigenvectors (call it v1, v2) of C (Google youself, how to do that!, Hint: np.linalg..... )\n",
    "* 5) Show that a standard eigendecomposition C = V L V' holds, where  L = diag_matrix( $\\lambda_1$,  $\\lambda_2$) is a diagonal matrix (see np.diag command), and V is a change of basis matrix, see\n",
    "https://ru.wikipedia.org/wiki/%D0%A1%D0%BF%D0%B5%D0%BA%D1%82%D1%80%D0%B0%D0%BB%D1%8C%D0%BD%D0%BE%D0%B5_%D1%80%D0%B0%D0%B7%D0%BB%D0%BE%D0%B6%D0%B5%D0%BD%D0%B8%D0%B5_%D0%BC%D0%B0%D1%82%D1%80%D0%B8%D1%86%D1%8B\n",
    "\n",
    "what sign (positive or negative do eigenvalues have?)\n",
    "* 6) Solve corresponding exercise from Problem_set3_HW_updated"
   ]
  },
  {
   "cell_type": "code",
   "execution_count": 15,
   "metadata": {},
   "outputs": [
    {
     "name": "stdout",
     "output_type": "stream",
     "text": [
      "shape =  (3, 2)\n",
      "shape =  (2, 2)\n",
      "||C1-C||= 6.280369834735101e-16\n",
      "||C2-C||= 6.280369834735101e-16\n"
     ]
    }
   ],
   "source": [
    "# You need to fill in the gaps\n",
    "\n",
    "#1. Shape \n",
    "shapeX = X.shape\n",
    "print(\"shape = \", shapeX)\n",
    "\n",
    "#2. Matrix C\n",
    "C = np.dot(X.transpose(),X)\n",
    "\n",
    "# 3. \n",
    "shapeC = C.shape\n",
    "print(\"shape = \", shapeC)\n",
    "\n",
    "\n",
    "#4. \n",
    "lmb, V = np.linalg.eig(C)\n",
    "\n",
    "#5.\n",
    "\n",
    "L = np.diag(lmb)\n",
    "\n",
    "C1 = np.dot(np.dot(V, L),V.transpose())\n",
    "\n",
    "# check more elegant approach multi_dot([A, B, C, D]):\n",
    "\n",
    "C2 = np.linalg.multi_dot([V, L, V.T])\n",
    "\n",
    "# check that everything worked correctly\n",
    "\n",
    "print(\"||C1-C||=\", np.linalg.norm(C1-C)) # this should be close to zero, not 0 due to numerical errors.\n",
    "print(\"||C2-C||=\", np.linalg.norm(C2-C)) #\n"
   ]
  },
  {
   "cell_type": "markdown",
   "metadata": {},
   "source": [
    "## Creating your own functions. \n",
    "\n",
    "Some functions are realized in libraries, like numpy and math, you've  already used them"
   ]
  },
  {
   "cell_type": "code",
   "execution_count": 16,
   "metadata": {},
   "outputs": [
    {
     "name": "stdout",
     "output_type": "stream",
     "text": [
      "using numpy sin(x)= 0.9092974268256817\n",
      "using math sin(x)= 0.9092974268256817\n"
     ]
    },
    {
     "data": {
      "text/plain": [
       "0.0"
      ]
     },
     "execution_count": 16,
     "metadata": {},
     "output_type": "execute_result"
    }
   ],
   "source": [
    "x=2\n",
    "print(\"using numpy sin(x)=\", np.sin(x))# just sin(x)\n",
    "\n",
    "print(\"using math sin(x)=\" , math.sin(x))# also sin(x)\n",
    "\n",
    "np.sin(x) - math.sin(x) # look they are equal (actually usually realizations by different libs may slightly differ)\n"
   ]
  },
  {
   "cell_type": "markdown",
   "metadata": {},
   "source": [
    "Also you can create your own functions. For instance, here is a new function that calculates sin(2x)"
   ]
  },
  {
   "cell_type": "code",
   "execution_count": 17,
   "metadata": {},
   "outputs": [],
   "source": [
    "def sin2(x):\n",
    "    y = np.sin(2*x)\n",
    "    return y"
   ]
  },
  {
   "cell_type": "code",
   "execution_count": 18,
   "metadata": {},
   "outputs": [
    {
     "data": {
      "text/plain": [
       "0.9092974268256817"
      ]
     },
     "execution_count": 18,
     "metadata": {},
     "output_type": "execute_result"
    }
   ],
   "source": [
    "# now you can call it like this\n",
    "\n",
    "sin2(1)"
   ]
  },
  {
   "cell_type": "code",
   "execution_count": 19,
   "metadata": {},
   "outputs": [
    {
     "data": {
      "text/plain": [
       "True"
      ]
     },
     "execution_count": 19,
     "metadata": {},
     "output_type": "execute_result"
    }
   ],
   "source": [
    "machine_zero = np.finfo(float).eps\n",
    "# write your own function, that calculates difference d = |np.sin(2*x) - 2*np.sin(x)*np.cos(x)| and\n",
    "# returns true if d is numerical zero , i.e. d < machine_zero\n",
    "x=1\n",
    "#\n",
    "# Your code here\n",
    "#\n",
    "def func(x):\n",
    "    return np.abs(sin2(x) - 2*np.sin(x)*np.cos(x)) < machine_zero\n",
    "\n",
    "func(1)"
   ]
  },
  {
   "cell_type": "markdown",
   "metadata": {},
   "source": [
    "# Part IV: plots and matplotlib\n",
    "\n",
    "Using python to visualize the data is covered by yet another library: `matplotlib`.\n",
    "\n",
    "Just like python itself, matplotlib has an awesome tendency of keeping simple things simple while still allowing you to write complicated stuff with convenience (e.g. super-detailed plots or custom animations)."
   ]
  },
  {
   "cell_type": "code",
   "execution_count": 20,
   "metadata": {},
   "outputs": [
    {
     "data": {
      "image/png": "[encoded data removed]",
      "text/plain": [
       "<Figure size 432x288 with 1 Axes>"
      ]
     },
     "metadata": {
      "needs_background": "light"
     },
     "output_type": "display_data"
    }
   ],
   "source": [
    "import matplotlib.pyplot as plt\n",
    "%matplotlib inline  \n",
    "# ^-- this \"magic\" tells all future matplotlib plots to be drawn inside notebook and not in a separate window.\n",
    "\n",
    "# line plot\n",
    "plt.plot([0,1,2,3,4,5],[0,1,4,9,16,25]);"
   ]
  },
  {
   "cell_type": "code",
   "execution_count": 21,
   "metadata": {},
   "outputs": [
    {
     "data": {
      "image/png": "[encoded data removed]",
      "text/plain": [
       "<Figure size 432x288 with 1 Axes>"
      ]
     },
     "metadata": {
      "needs_background": "light"
     },
     "output_type": "display_data"
    }
   ],
   "source": [
    "#scatter-plot\n",
    "plt.scatter([0,1,2,3,4,5],[0,1,4,9,16,25])\n",
    "\n",
    "plt.show()  # show the first plot and begin drawing next one"
   ]
  },
  {
   "cell_type": "code",
   "execution_count": 22,
   "metadata": {},
   "outputs": [
    {
     "data": {
      "image/png": "[encoded data removed]",
      "text/plain": [
       "<Figure size 432x288 with 1 Axes>"
      ]
     },
     "metadata": {
      "needs_background": "light"
     },
     "output_type": "display_data"
    }
   ],
   "source": [
    "# draw a scatter plot with custom markers and colors\n",
    "plt.scatter([1,1,2,3,4,4.5],[3,2,2,5,15,24],\n",
    "            c = [\"red\",\"blue\",\"orange\",\"green\",\"cyan\",\"gray\"], marker = \"x\")\n",
    "\n",
    "# without .show(), several plots will be drawn on top of one another\n",
    "plt.plot([0,1,2,3,4,5],[0,1,4,9,16,25],c = \"black\")\n",
    "\n",
    "# adding more sugar\n",
    "plt.title(\"Conspiracy theory proven!!!\")\n",
    "plt.xlabel(\"Per capita alcohol consumption\")\n",
    "plt.ylabel(\"Number of Tests (Letuchka) in the  Mathematical  analysis course\");\n",
    "\n"
   ]
  },
  {
   "cell_type": "markdown",
   "metadata": {},
   "source": [
    "### Some more  funny correlations: http://bit.ly/1FcNnWF, don't miss them :)"
   ]
  },
  {
   "cell_type": "code",
   "execution_count": 23,
   "metadata": {},
   "outputs": [
    {
     "data": {
      "image/png": "[encoded data removed]",
      "text/plain": [
       "<Figure size 432x288 with 1 Axes>"
      ]
     },
     "metadata": {
      "needs_background": "light"
     },
     "output_type": "display_data"
    }
   ],
   "source": [
    "# histogram - showing data empirical density\n",
    "plt.hist([0,1,1,1,2,2,3,3,3,3,3,4,4,5,5,5,6,7,7,8,9,10])\n",
    "plt.show()\n",
    "\n"
   ]
  },
  {
   "cell_type": "code",
   "execution_count": 24,
   "metadata": {},
   "outputs": [
    {
     "data": {
      "image/png": "[encoded data removed]",
      "text/plain": [
       "<Figure size 432x288 with 1 Axes>"
      ]
     },
     "metadata": {
      "needs_background": "light"
     },
     "output_type": "display_data"
    }
   ],
   "source": [
    "#  same with less bins\n",
    "\n",
    "plt.hist([0,1,1,1,2,2,3,3,3,3,3,4,4,5,5,5,6,7,7,8,9,10], bins = 5);"
   ]
  },
  {
   "cell_type": "markdown",
   "metadata": {},
   "source": [
    "# Section 2"
   ]
  },
  {
   "cell_type": "markdown",
   "metadata": {},
   "source": [
    "### In this section we consider data generating models. From very simple generating of random variables to linear models, nonlinear models and beyond. "
   ]
  },
  {
   "cell_type": "markdown",
   "metadata": {},
   "source": [
    "### Random variables\n",
    "#### The best way to \"feel\" random objects is to look at lots of samples. Let $N$ denote a sample size. \n",
    "\n",
    "1. Bernoulli distribution (or a simple coin toss) \n",
    "\n",
    "\n",
    "\n",
    "\n",
    "\n"
   ]
  },
  {
   "cell_type": "code",
   "execution_count": 25,
   "metadata": {},
   "outputs": [
    {
     "name": "stdout",
     "output_type": "stream",
     "text": [
      "result of a toss is 0\n"
     ]
    }
   ],
   "source": [
    "one_toss = np.random.binomial(1, 1/3, [1])\n",
    "\n",
    "print(\"result of a toss is\", one_toss[0])\n"
   ]
  },
  {
   "cell_type": "markdown",
   "metadata": {},
   "source": [
    "Note it is random, once you rerun the cell above `Shift+Enter`,  you may see a different value!"
   ]
  },
  {
   "cell_type": "markdown",
   "metadata": {},
   "source": [
    "\n"
   ]
  },
  {
   "cell_type": "code",
   "execution_count": 27,
   "metadata": {},
   "outputs": [
    {
     "name": "stdout",
     "output_type": "stream",
     "text": [
      "sample shape =  (20, 1)\n",
      "sample is [0 0 1 0 0 1 0 1 0 1 1 0 0 0 0 1 0 0 0 1]\n",
      "average number (or realized mean value) is  0.35\n"
     ]
    }
   ],
   "source": [
    "N = 20\n",
    "# let's have a look at the sample\n",
    "\n",
    "smpl = [ np.random.binomial(1, 1/3, [1]) for i in range(N)]\n",
    "\n",
    "# convert it to more comfortable np-array\n",
    "smpl = np.array(smpl)\n",
    "\n",
    "\n",
    "print(\"sample shape = \", smpl.shape) # oh, its a (20 x 1) matrix!\n",
    "\n",
    "print(\"sample is\", smpl[:,0]) #  array with 20 entries\n",
    "\n",
    "print(\"average number (or realized mean value) is \", np.mean(smpl[:,0])) #  array with 20 entries\n",
    "\n",
    "# plt.hist(smpl, bins = 2)\n",
    "# plt.show()\n",
    "\n",
    "# thereis a more clever way to do this!!!! \n",
    "# just use smpl = np.random.binomial(1, 1/3, [N])"
   ]
  },
  {
   "cell_type": "markdown",
   "metadata": {},
   "source": [
    "Print \"heads tails\" in Google to have a look at animation."
   ]
  },
  {
   "cell_type": "markdown",
   "metadata": {},
   "source": [
    "## EXERCISE 2, Your turn!\n",
    "\n",
    "\n",
    "Generate  2. Poisson, 3. Standard Cauchy and 4. Standard Normal and 5. Normal distributed (mu = M, Std = D) samples, \n",
    "(Let M be your grade for Mathematical analysis course and D = sqrt(n), where n is the class size). Where do these distributions commonly arise?\n",
    "\n",
    "\n",
    "* A. Plot sample itself (as a set of points in $\\mathbb{R}$)\n",
    "\n",
    "* B. Plot their histograms. \n",
    "\n",
    "* C. Extraexercise: plot their sample distribution function.\n",
    "\n",
    "Note, once again, both histogram and sample distribution functions are random. It is interesting, what happens, when you increase $N$.  Task 2 and 5 are already done for you. Use them as a starting point."
   ]
  },
  {
   "cell_type": "code",
   "execution_count": 28,
   "metadata": {},
   "outputs": [],
   "source": [
    "N = 1000 #sample size"
   ]
  },
  {
   "cell_type": "markdown",
   "metadata": {},
   "source": [
    " 2. Poisson: commanly models  processes with a fixed intensity \"$\\lambda$\" like a number of incoming phone calls at the phone station per hour.  It takes discrete values  x=0,1,2.. with probs $P(x=k) = \\frac{exp(-\\lambda)\\lambda^k}{k!}$ .\n"
   ]
  },
  {
   "cell_type": "code",
   "execution_count": 247,
   "metadata": {},
   "outputs": [],
   "source": [
    "from scipy.special import gamma"
   ]
  },
  {
   "cell_type": "code",
   "execution_count": 257,
   "metadata": {},
   "outputs": [
    {
     "data": {
      "image/png": "[encoded data removed]",
      "text/plain": [
       "<Figure size 432x288 with 1 Axes>"
      ]
     },
     "metadata": {
      "needs_background": "light"
     },
     "output_type": "display_data"
    },
    {
     "name": "stdout",
     "output_type": "stream",
     "text": [
      "first 10 realized values  [3 1 2 1 3 2 0 1 5 2]\n"
     ]
    },
    {
     "data": {
      "image/png": "[encoded data removed]",
      "text/plain": [
       "<Figure size 432x288 with 1 Axes>"
      ]
     },
     "metadata": {
      "needs_background": "light"
     },
     "output_type": "display_data"
    },
    {
     "data": {
      "image/png": "[encoded data removed]",
      "text/plain": [
       "<Figure size 576x288 with 1 Axes>"
      ]
     },
     "metadata": {
      "needs_background": "light"
     },
     "output_type": "display_data"
    }
   ],
   "source": [
    "# Generating sample\n",
    "lam = 2\n",
    "smpl = np.random.poisson(lam = lam, size = N ) #  For instance, it each number can model an incoming tcpip connections received by some distant server \n",
    "# A. \n",
    "plt.plot(smpl, np.zeros_like(smpl), 'x') # its just one-dimensional plot, note, more common values will look more shady.\n",
    "plt.show()\n",
    "\n",
    "# have a look at smpl:\n",
    "print('first 10 realized values ',smpl[0:10])\n",
    "# B. \n",
    "plt.hist(smpl, bins = 10) # bins is a number of \"boxes\" (disjoint intervals of equal \"width\" covering set of observations) we put observations in. Height of columns = number of observations in a box.\n",
    "plt.show()\n",
    "#C. \n",
    "fig, ax = plt.subplots(figsize=(8, 4))\n",
    "\n",
    "# plot the cumulative histogram\n",
    "n_bins = smpl.max() # technical parameter\n",
    "n, bins, patches = ax.hist(smpl, n_bins, density=True, histtype='step',\n",
    "                           cumulative=True, label='Empirical')\n",
    "\n",
    "# Add a line showing the theoretical distribution F.\n",
    "y = np.exp(-lam) * lam ** bins / np.vectorize(math.factorial)(bins)\n",
    "y = y.cumsum()\n",
    "y /= y[-1]\n",
    "\n",
    "ax.plot(bins, y, 'k--', linewidth=1.5, label='Theoretical')\n",
    "\n",
    "# tidy up the figure\n",
    "ax.grid(True)\n",
    "ax.legend(loc='right')\n",
    "ax.set_title('Cumulative step histograms')\n",
    "ax.set_xlabel('Number of incoming  phone calls')\n",
    "ax.set_ylabel('Realized (empirical) probability of occurrence')\n",
    "\n",
    "plt.show()\n"
   ]
  },
  {
   "cell_type": "code",
   "execution_count": 269,
   "metadata": {},
   "outputs": [
    {
     "data": {
      "image/png": "[encoded data removed]",
      "text/plain": [
       "<Figure size 432x288 with 1 Axes>"
      ]
     },
     "metadata": {
      "needs_background": "light"
     },
     "output_type": "display_data"
    }
   ],
   "source": [
    "###############################\n",
    "\n",
    "# D. instead of cumulative distribution one can depict density function. \n",
    "# It is especially inetersting to look at one picture with normalized histogram\n",
    "\n",
    "points = np.array(range(smpl.max() + 1))\n",
    "points.sort()\n",
    "pdf = np.exp(-lam) * lam ** points / np.vectorize(math.factorial)(points)\n",
    "plt.hist(smpl, smpl.max(), density=True);\n",
    "plt.plot(points, pdf, color='r')\n",
    "plt.show()"
   ]
  },
  {
   "cell_type": "code",
   "execution_count": 129,
   "metadata": {},
   "outputs": [
    {
     "data": {
      "image/png": "[encoded data removed]",
      "text/plain": [
       "<Figure size 432x288 with 1 Axes>"
      ]
     },
     "metadata": {
      "needs_background": "light"
     },
     "output_type": "display_data"
    },
    {
     "name": "stdout",
     "output_type": "stream",
     "text": [
      "first 10 realized values  [ 0.14959451  5.59622209  5.3567223  -1.30600185  8.72670886  9.21148523\n",
      "  2.79241446 -1.27659517 -4.45254286  1.04240555]\n"
     ]
    },
    {
     "data": {
      "image/png": "[encoded data removed]",
      "text/plain": [
       "<Figure size 432x288 with 1 Axes>"
      ]
     },
     "metadata": {
      "needs_background": "light"
     },
     "output_type": "display_data"
    },
    {
     "data": {
      "image/png": "[encoded data removed]",
      "text/plain": [
       "<Figure size 576x288 with 1 Axes>"
      ]
     },
     "metadata": {
      "needs_background": "light"
     },
     "output_type": "display_data"
    }
   ],
   "source": [
    "# 3. Standard Cauchy\n",
    "# TODO\n",
    "smpl = np.random.standard_cauchy(size=N) #  For instance, it each number can model an incoming tcpip connections received by some distant server \n",
    "# A. \n",
    "plt.plot(smpl, np.zeros_like(smpl), 'x') # its just one-dimensional plot, note, more common values will look more shady.\n",
    "plt.show()\n",
    "\n",
    "# have a look at smpl:\n",
    "print('first 10 realized values ',smpl[0:10])\n",
    "# B. \n",
    "plt.hist(smpl, bins = 10) # bins is a number of \"boxes\" (disjoint intervals of equal \"width\" covering set of observations) we put observations in. Height of columns = number of observations in a box.\n",
    "plt.show()\n",
    "#C. \n",
    "fig, ax = plt.subplots(figsize=(8, 4))\n",
    "\n",
    "# plot the cumulative histogram\n",
    "n_bins = 50 # technical parameter\n",
    "n, bins, patches = ax.hist(smpl, n_bins, density=True, histtype='step',\n",
    "                           cumulative=True, label='Empirical')\n",
    "\n",
    "\n",
    "# Add a line showing the theoretical distribution F.\n",
    "y = 1 / (np.pi * (1 + np.square(bins)))\n",
    "y = y.cumsum()\n",
    "y /= y[-1]\n",
    "\n",
    "ax.plot(bins, y, 'k--', linewidth=1.5, label='Theoretical')\n",
    "\n",
    "# tidy up the figure\n",
    "ax.grid(True)\n",
    "ax.legend(loc='right')\n",
    "ax.set_title('Cumulative step histograms')\n",
    "ax.set_xlabel('Number of incoming  phone calls')\n",
    "ax.set_ylabel('Realized (empirical) probability of occurrence')\n",
    "\n",
    "plt.show()\n"
   ]
  },
  {
   "cell_type": "code",
   "execution_count": 131,
   "metadata": {},
   "outputs": [
    {
     "data": {
      "image/png": "[encoded data removed]",
      "text/plain": [
       "<Figure size 432x288 with 1 Axes>"
      ]
     },
     "metadata": {
      "needs_background": "light"
     },
     "output_type": "display_data"
    }
   ],
   "source": [
    "###############################\n",
    "\n",
    "# D. instead of cumulative distribution one can depict density function. \n",
    "# It is especially inetersting to look at one picture with normalized histogram\n",
    "\n",
    "points = np.linspace(-100,100,50)\n",
    "pdf = 1 / (np.pi * (1 + np.square(points)))\n",
    "plt.hist(smpl, 20, density=True);\n",
    "plt.plot(points, pdf, color='r')\n",
    "plt.xlim((-100, 100))\n",
    "plt.show()"
   ]
  },
  {
   "cell_type": "code",
   "execution_count": 56,
   "metadata": {},
   "outputs": [
    {
     "data": {
      "image/png": "[encoded data removed]",
      "text/plain": [
       "<Figure size 432x288 with 1 Axes>"
      ]
     },
     "metadata": {
      "needs_background": "light"
     },
     "output_type": "display_data"
    },
    {
     "name": "stdout",
     "output_type": "stream",
     "text": [
      "first 10 realized values  [-0.88500809 -0.83404309  0.73532034  1.5995019   1.91622905 -0.41405621\n",
      "  1.27929244  0.66652665  0.58605082 -2.24483953]\n"
     ]
    },
    {
     "data": {
      "image/png": "[encoded data removed]",
      "text/plain": [
       "<Figure size 432x288 with 1 Axes>"
      ]
     },
     "metadata": {
      "needs_background": "light"
     },
     "output_type": "display_data"
    },
    {
     "data": {
      "image/png": "[encoded data removed]",
      "text/plain": [
       "<Figure size 576x288 with 1 Axes>"
      ]
     },
     "metadata": {
      "needs_background": "light"
     },
     "output_type": "display_data"
    }
   ],
   "source": [
    "# 4. Standard Normal distribution\n",
    "# TODO\n",
    "smpl = np.random.standard_normal(size=N) #  For instance, it each number can model an incoming tcpip connections received by some distant server \n",
    "# A. \n",
    "plt.plot(smpl, np.zeros_like(smpl), 'x') # its just one-dimensional plot, note, more common values will look more shady.\n",
    "plt.show()\n",
    "\n",
    "# have a look at smpl:\n",
    "print('first 10 realized values ',smpl[0:10])\n",
    "# B. \n",
    "plt.hist(smpl, bins = 10) # bins is a number of \"boxes\" (disjoint intervals of equal \"width\" covering set of observations) we put observations in. Height of columns = number of observations in a box.\n",
    "plt.show()\n",
    "#C. \n",
    "fig, ax = plt.subplots(figsize=(8, 4))\n",
    "\n",
    "# plot the cumulative histogram\n",
    "n_bins = 50 # technical parameter\n",
    "n, bins, patches = ax.hist(smpl, n_bins, density=True, histtype='step',\n",
    "                           cumulative=True, label='Empirical')\n",
    "\n",
    "# Add a line showing the theoretical distribution F.\n",
    "y = ((1 / (np.sqrt(2 * np.pi))) *\n",
    "     np.exp(-0.5 * np.square(bins)))\n",
    "y = y.cumsum()\n",
    "y /= y[-1]\n",
    "\n",
    "ax.plot(bins, y, 'k--', linewidth=1.5, label='Theoretical')\n",
    "\n",
    "# tidy up the figure\n",
    "ax.grid(True)\n",
    "ax.legend(loc='right')\n",
    "ax.set_title('Cumulative step histograms')\n",
    "ax.set_xlabel('Number of incoming  phone calls')\n",
    "ax.set_ylabel('Realized (empirical) probability of occurrence')\n",
    "\n",
    "plt.show()"
   ]
  },
  {
   "cell_type": "code",
   "execution_count": 59,
   "metadata": {},
   "outputs": [
    {
     "data": {
      "image/png": "[encoded data removed]",
      "text/plain": [
       "<Figure size 432x288 with 1 Axes>"
      ]
     },
     "metadata": {
      "needs_background": "light"
     },
     "output_type": "display_data"
    }
   ],
   "source": [
    "###############################\n",
    "\n",
    "# D. instead of cumulative distribution one can depict density function. \n",
    "# It is especially inetersting to look at one picture with normalized histogram\n",
    "\n",
    "points = np.linspace(-5,5,100)\n",
    "pdf = ((1 / (np.sqrt(2 * np.pi))) *\n",
    "     np.exp(-0.5 * np.square(points)))\n",
    "plt.hist(smpl, 30, density=True);\n",
    "plt.plot(points, pdf, color='r')\n",
    "plt.show()"
   ]
  },
  {
   "cell_type": "markdown",
   "metadata": {},
   "source": [
    " 4. Normal distribution: commonly arises when a result is obtained as a sum of a big number of different and \n",
    " independent factors.\n",
    " It has 2 parameters: mean value $\\mu$  and standard deviation $\\sigma>0$ (or variance $\\sigma^2$).\n",
    " Common examples are like Annual rainfall (mm), interestingly, class-grades (before rounding) behave quite similarly. \n",
    " \n",
    " It has a density function $$ f(x) = \\frac{1}{\\sqrt{2 \\pi} \\sigma)}\\exp\\big(-\\frac{(x - \\mu)^2}{ 2 \\sigma^2} \\big).$$ And a cumulative density function $F(x) = \\int\\limits_{-\\infty}^{x}f(t)dt.$"
   ]
  },
  {
   "cell_type": "code",
   "execution_count": 132,
   "metadata": {},
   "outputs": [
    {
     "data": {
      "image/png": "[encoded data removed]",
      "text/plain": [
       "<Figure size 432x288 with 1 Axes>"
      ]
     },
     "metadata": {
      "needs_background": "light"
     },
     "output_type": "display_data"
    },
    {
     "data": {
      "image/png": "[encoded data removed]",
      "text/plain": [
       "<Figure size 432x288 with 1 Axes>"
      ]
     },
     "metadata": {
      "needs_background": "light"
     },
     "output_type": "display_data"
    },
    {
     "data": {
      "image/png": "[encoded data removed]",
      "text/plain": [
       "<Figure size 576x288 with 1 Axes>"
      ]
     },
     "metadata": {
      "needs_background": "light"
     },
     "output_type": "display_data"
    }
   ],
   "source": [
    "mu = 9\n",
    "sigma = 29\n",
    "\n",
    "# Generate sample\n",
    "smpl = np.random.normal(mu, sigma, size=100)\n",
    "\n",
    "# A. \n",
    "plt.plot(smpl, np.zeros_like(smpl), 'x') # its just one-dimensional plot, note, more common values will look more shady.\n",
    "plt.show()\n",
    "\n",
    "\n",
    "# B. \n",
    "plt.hist(smpl, bins = 10)\n",
    "plt.show()\n",
    "\n",
    "\n",
    "# C.\n",
    "fig, ax = plt.subplots(figsize=(8, 4))\n",
    "\n",
    "# plot the cumulative histogram\n",
    "n, bins, patches = ax.hist(smpl, n_bins, density=True, histtype='step',\n",
    "                           cumulative=True, label='Empirical')\n",
    "\n",
    "# Add a line showing the theoretical distribution F.\n",
    "y = ((1 / (np.sqrt(2 * np.pi) * sigma)) *\n",
    "     np.exp(-0.5 * (1 / sigma * (bins - mu))**2))\n",
    "y = y.cumsum()\n",
    "y /= y[-1]\n",
    "\n",
    "ax.plot(bins, y, 'k--', linewidth=1.5, label='Theoretical')\n",
    "\n",
    "\n",
    "# tidy up the figure\n",
    "ax.grid(True)\n",
    "ax.legend(loc='right')\n",
    "ax.set_title('Cumulative step histograms')\n",
    "ax.set_xlabel('Annual rainfall (mm)')\n",
    "ax.set_ylabel('Likelihood of occurrence')\n",
    "\n",
    "plt.show()\n",
    "\n"
   ]
  },
  {
   "cell_type": "code",
   "execution_count": 133,
   "metadata": {},
   "outputs": [
    {
     "data": {
      "image/png": "[encoded data removed]",
      "text/plain": [
       "<Figure size 432x288 with 1 Axes>"
      ]
     },
     "metadata": {
      "needs_background": "light"
     },
     "output_type": "display_data"
    }
   ],
   "source": [
    "###############################\n",
    "\n",
    "# D. instead of cumulative distribution one can depict density function. \n",
    "# It is especially inetersting to look at one picture with normalized histogram\n",
    "\n",
    "points = np.linspace(-100,200,100)\n",
    "pdf = ((1 / (np.sqrt(2 * np.pi) * sigma)) *\n",
    "     np.exp(-0.5 * (1 / sigma * (points - mu))**2))\n",
    "plt.hist(smpl, 30, density=True);\n",
    "plt.plot(points, pdf, color='r')\n",
    "plt.show()"
   ]
  },
  {
   "cell_type": "markdown",
   "metadata": {},
   "source": [
    "## EXERCISE 3*, standartization, ~~central~~  local limit theorem\n",
    "\n",
    "Let's return to Bernoulli model with $p = 1/3$.\n",
    "\n",
    "Generate n = 30000 different samples consisting of 50000 values each. For each sample calculate its realized (or empirical) mean-value $\\bar{X}^{emp}$.\n",
    "You obtain n numbers.  Let's consider it as a new __random__ sample n -element sample $\\{\\bar{X}_i\\}_{i=1}^{n}$.\n",
    " \n",
    "Check theoretically that  $\\mathbb{E}\\bar{X} = p$, $\\mathbb{Var} \\bar{X} = \\frac{p(1-p)}{n}.$\n",
    "Do the following transform: \n",
    "\n",
    "$Y_i =  \\frac{\\bar{X}_i - p}{\\sqrt{p(1-p)/n}}, i = 1..n$,\n",
    "\n",
    "that subtract mean value and devide by std.deviation. \n",
    "\n",
    "Set ${Y_i} $ is a new random (however, you deal with realized values) sample. Compare it with standard normal diastribution. Plot density function and normalized histogram as above.\n",
    "\n"
   ]
  },
  {
   "cell_type": "code",
   "execution_count": 143,
   "metadata": {},
   "outputs": [],
   "source": [
    "p = 1/3\n",
    "n = 30000\n",
    "Y_0 = np.random.binomial(1, p, (n, 50000)).mean(axis=1)\n",
    "\n",
    "Y_new = (Y_0 - Y_0.mean()) / Y_0.std()\n",
    "Y_new_1 = (Y_0 - p) / np.sqrt(p * (1-p) / n)"
   ]
  },
  {
   "cell_type": "code",
   "execution_count": 165,
   "metadata": {},
   "outputs": [
    {
     "data": {
      "image/png": "[encoded data removed]",
      "text/plain": [
       "<Figure size 720x216 with 2 Axes>"
      ]
     },
     "metadata": {
      "needs_background": "light"
     },
     "output_type": "display_data"
    }
   ],
   "source": [
    "points = np.linspace(-5,5,100)\n",
    "pdf = ((1 / (np.sqrt(2 * np.pi))) *\n",
    "     np.exp(-0.5 * np.square(points)))\n",
    "\n",
    "plt.figure(figsize=(10,3))\n",
    "plt.subplot(1, 2, 1)\n",
    "plt.hist(Y_new, 30, density=True);\n",
    "plt.plot(points, pdf, color='r')\n",
    "plt.title('Actual Mean/Var')\n",
    "\n",
    "plt.subplot(1, 2, 2)\n",
    "plt.hist(Y_new_1, 30, density=True);\n",
    "plt.plot(points, pdf, color='r')\n",
    "plt.title('Theoretical Mean/Var')\n",
    "plt.show()"
   ]
  },
  {
   "cell_type": "markdown",
   "metadata": {},
   "source": [
    "## EXERCISE 4, it's just a Poisson! , also see Problem 8"
   ]
  },
  {
   "cell_type": "markdown",
   "metadata": {},
   "source": [
    "Random variable $\\xi$ has a Poisson distribution with $\\lambda$ parameter equal to 2. \n",
    "\n",
    "The new random variable  $X$ is as follows: if $\\xi=k$ then you throw a coin with probabilities of head/tails $(1/3,2/3)$ (1/3 is for 1, i.e. head) and sum up number of heads. That is the value of $X$. \n",
    "Here you need to generate a <b>100</b> element sample of $X$.\n",
    "\n",
    "In theoretical exercise, you'll need to show, that it is Poisson (2/3) distributed!"
   ]
  },
  {
   "cell_type": "code",
   "execution_count": 230,
   "metadata": {},
   "outputs": [],
   "source": [
    "#100 is a small number, I'll take N=100000\n",
    "\n",
    "def generateOneX(a):\n",
    "    global p\n",
    "    return np.random.binomial(1, p, (a)).sum()\n",
    "\n",
    "p = 1/3\n",
    "lam = 2\n",
    "N = 1000000\n",
    "smpl = np.random.poisson(lam=lam, size=N)\n",
    "\n",
    "sums = np.vectorize(generateOneX)(smpl)"
   ]
  },
  {
   "cell_type": "code",
   "execution_count": 236,
   "metadata": {},
   "outputs": [
    {
     "data": {
      "image/png": "[encoded data removed]",
      "text/plain": [
       "<Figure size 432x288 with 1 Axes>"
      ]
     },
     "metadata": {
      "needs_background": "light"
     },
     "output_type": "display_data"
    }
   ],
   "source": [
    "points = np.array(range(8))\n",
    "pdf = np.exp(-lam * p) * (lam * p) ** points / np.vectorize(math.factorial)(points)\n",
    "plt.hist(sums, 7, density=True);\n",
    "plt.plot(points, pdf, color='r')\n",
    "plt.show()"
   ]
  },
  {
   "cell_type": "code",
   "execution_count": 235,
   "metadata": {},
   "outputs": [
    {
     "data": {
      "image/png": "[encoded data removed]",
      "text/plain": [
       "<Figure size 576x288 with 1 Axes>"
      ]
     },
     "metadata": {
      "needs_background": "light"
     },
     "output_type": "display_data"
    }
   ],
   "source": [
    "fig, ax = plt.subplots(figsize=(8, 4))\n",
    "\n",
    "# plot the cumulative histogram\n",
    "n_bins = 7 # technical parameter\n",
    "n, bins, patches = ax.hist(sums, n_bins, density=True, histtype='step',\n",
    "                           cumulative=True, label='Empirical')\n",
    "\n",
    "# Add a line showing the theoretical distribution F.\n",
    "y = np.exp(-lam * p) * (lam * p) ** bins / np.vectorize(math.factorial)(bins)\n",
    "y = y.cumsum()\n",
    "y /= y[-1]\n",
    "\n",
    "ax.plot(bins, y, 'k--', linewidth=1.5, label='Theoretical')\n",
    "\n",
    "ax.grid(True)\n",
    "ax.legend(loc='right')\n",
    "ax.set_title('Cumulative step histograms')\n",
    "ax.set_xlabel('Number of X')\n",
    "ax.set_ylabel('Realized (empirical) probability of occurrence')\n",
    "\n",
    "plt.show()"
   ]
  },
  {
   "cell_type": "markdown",
   "metadata": {},
   "source": [
    "## EXERCISE 5, conditional expectations, +see  10 points theoretical exercise!, see problem 9 in theoretical part\n",
    "A model of a die is given below. It is just a discrete uniformly distributed random variable $X$ with values 1..6.\n",
    "\n",
    "\n",
    "<img width=\"200\" alt=\"portfolio_view\" src=\"https://svgsilh.com/svg/308887.svg\">\n",
    "\n",
    "Google \"roll a die\" to see an animated model :)"
   ]
  },
  {
   "cell_type": "code",
   "execution_count": 270,
   "metadata": {},
   "outputs": [
    {
     "name": "stdout",
     "output_type": "stream",
     "text": [
      "result of rolling a die:  [5]\n"
     ]
    }
   ],
   "source": [
    "X = np.random.randint(1, 6, size = 1)\n",
    "\n",
    "print(\"result of rolling a die: \", X )"
   ]
  },
  {
   "cell_type": "markdown",
   "metadata": {},
   "source": [
    "Consider 2 more random variables $Y$ and $Z$, that depend on $X$.\n",
    "\n",
    "1. $Y(X) = X^2$ -- it is just a squared outcome of a die roll.\n",
    "\n",
    "2. random varibale $Z=Z(X)$, that equals 1, if X is odd,  and equal 0, otherwise. \n",
    "\n",
    "Calculate theoretically $\\mathbb{E}(Y|Z) = ???$. This should be some function $m(Z)$ of $ Z$.\n",
    "\n",
    "In class we had a formula for the case when $m(Z) =   \\beta_2 Z+ \\beta_1 = z'\\beta$, where vector $z = (1, Z)$ \n",
    " and $(\\beta_1, \\beta_2)$ is a numeric vector.\n",
    "\n",
    "We showed that \n",
    "\n",
    "$\\beta  = \\mathbb{E}(z'z)^{-1}\\mathbb{E}(Yz)$ (look at the proof!)\n",
    "\n",
    "Show theoretically by matrix multiplication that in this case\n",
    "\n",
    "$\\mathbb{E}(Y|Z)  = \\beta_1  + \\beta_2 Z$ where\n",
    "\n",
    "$ \\beta_1=  \\mathbb{E}y- \\frac{\\mathbb{cov}(Y,Z)}{\\mathbb{var}{Z}}\\mathbb{E}Z$\n",
    "\n",
    "$ \\beta_2= \\frac{\\mathbb{cov}(Y,Z)}{\\mathbb{var}{Z}}.$\n",
    "\n",
    "\n",
    "__Very important!__  $\\mathbb{cov}$, $\\mathbb{var}$ -- are theoretical covariance and theoretical variance; i.e. $\\mathbb{cov}(Y,Z)$, $\\mathbb{var}Z, \\mathbb{E}Z$ are numbers, not random variables! "
   ]
  },
  {
   "cell_type": "markdown",
   "metadata": {},
   "source": [
    "Define function m(z) below to look at realization$E(Y|Z)$:"
   ]
  },
  {
   "cell_type": "code",
   "execution_count": 286,
   "metadata": {},
   "outputs": [
    {
     "name": "stdout",
     "output_type": "stream",
     "text": [
      "realized E(Y|Z) = 18.666666666666668 ; Z= 0\n",
      "realized E(Y|Z) = 18.666666666666668 ; Z= 0\n",
      "realized E(Y|Z) = 11.666666666666668 ; Z= 1\n",
      "realized E(Y|Z) = 11.666666666666668 ; Z= 1\n",
      "realized E(Y|Z) = 11.666666666666668 ; Z= 1\n",
      "realized E(Y|Z) = 18.666666666666668 ; Z= 0\n",
      "realized E(Y|Z) = 18.666666666666668 ; Z= 0\n",
      "realized E(Y|Z) = 11.666666666666668 ; Z= 1\n",
      "realized E(Y|Z) = 11.666666666666668 ; Z= 1\n",
      "realized E(Y|Z) = 11.666666666666668 ; Z= 1\n"
     ]
    }
   ],
   "source": [
    "def m(z):\n",
    "    # calculate theoretically beta1 and beta2\n",
    "    beta1 = 56/3\n",
    "    beta2 = -7\n",
    "\n",
    "    return beta2 * z + beta1\n",
    "\n",
    "\n",
    "# let's sample some more:\n",
    "smpl = np.random.randint(1, 6, size = 10)\n",
    "\n",
    "for x in smpl:\n",
    "\n",
    "    z = 1 if x%2 == 1 else 0 # in fact it is a coin \n",
    "    \n",
    "    print(\"realized E(Y|Z) =\" ,m(z), \"; Z=\" ,z)\n",
    "\n"
   ]
  },
  {
   "cell_type": "markdown",
   "metadata": {},
   "source": [
    "Define matrix $Q= \\mathbb{E}(z'z)^{-1}$\n",
    "\n",
    "Define vector column $v=\\mathbb{E}(Yz)$\n",
    "\n",
    "Check your calculations!"
   ]
  },
  {
   "cell_type": "code",
   "execution_count": 310,
   "metadata": {
    "scrolled": true
   },
   "outputs": [
    {
     "name": "stdout",
     "output_type": "stream",
     "text": [
      "betas = 18.666666666666664, -7.0\n"
     ]
    }
   ],
   "source": [
    "Q = np.matrix([[1, .5],[.5, .5]]) # fill 1-s with right values!!!\n",
    "v = np.array([[91/6],[35/6]]) # fill 1-s with right values!!!\n",
    "\n",
    "beta = Q.I @ v\n",
    "\n",
    "print(\"betas = \" + ', '.join(map(str, list(np.array(beta).flatten()))))"
   ]
  },
  {
   "cell_type": "markdown",
   "metadata": {},
   "source": [
    "##### In the next  part  you need to compare several explicitly given data generating models. We will use them extensively in this course."
   ]
  }
 ],
 "metadata": {
  "kernelspec": {
   "display_name": "Python 3",
   "language": "python",
   "name": "python3"
  },
  "language_info": {
   "codemirror_mode": {
    "name": "ipython",
    "version": 3
   },
   "file_extension": ".py",
   "mimetype": "text/x-python",
   "name": "python",
   "nbconvert_exporter": "python",
   "pygments_lexer": "ipython3",
   "version": "3.7.4"
  }
 },
 "nbformat": 4,
 "nbformat_minor": 1
}
